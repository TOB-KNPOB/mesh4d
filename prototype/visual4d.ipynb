{
 "cells": [
  {
   "cell_type": "code",
   "execution_count": null,
   "metadata": {},
   "outputs": [],
   "source": [
    "import os\n",
    "import pyvista as pv\n",
    "\n",
    "pv.set_jupyter_backend('static')\n",
    "os.environ['DISPLAY'] = ':99.0'\n",
    "os.environ['PYVISTA_OFF_SCREEM'] = 'true'"
   ]
  },
  {
   "cell_type": "code",
   "execution_count": null,
   "metadata": {},
   "outputs": [],
   "source": [
    "is_export = True\n",
    "off_screen = True\n",
    "\n",
    "mesh_path = '/mnt/d/knpob/4-data/20211229-DynaBreast4D/3dmd/6kmh_27marker_2/meshes'\n",
    "landmark_path = '/mnt/d/knpob/4-data/20211229-DynaBreast4D/vicon/6kmh_27marker_2'\n",
    "\n",
    "start=0\n",
    "stride = 12\n",
    "end=120\n",
    "\n",
    "export_folder = \"output/visual/\""
   ]
  },
  {
   "attachments": {},
   "cell_type": "markdown",
   "metadata": {},
   "source": [
    "# Load data"
   ]
  },
  {
   "cell_type": "code",
   "execution_count": null,
   "metadata": {},
   "outputs": [],
   "source": [
    "from mesh4d import obj3d\n",
    "\n",
    "mesh_ls, texture_ls = obj3d.load_mesh_series(\n",
    "    folder=mesh_path,\n",
    "    start=start,\n",
    "    stride=stride,\n",
    "    end=end,\n",
    ")"
   ]
  },
  {
   "cell_type": "code",
   "execution_count": null,
   "metadata": {},
   "outputs": [],
   "source": [
    "import numpy as np\n",
    "from mesh4d import kps, utils\n",
    "\n",
    "vicon_arr = np.load(os.path.join(landmark_path, 'vicon_arr.npy'))\n",
    "vicon_start = utils.load_pkl_object(os.path.join(landmark_path, 'vicon_start.pkl'))\n",
    "vicon_cab = utils.load_pkl_object(os.path.join(landmark_path, 'vicon>>3dmd.pkl'))\n",
    "\n",
    "landmarks = kps.MarkerSet()\n",
    "landmarks.load_from_array(vicon_arr, start_time=vicon_start, fps=100, trans_cab=vicon_cab)\n",
    "landmarks.interp_field()"
   ]
  },
  {
   "cell_type": "code",
   "execution_count": null,
   "metadata": {},
   "outputs": [],
   "source": [
    "from mesh4d.analyse.crave import clip_with_contour\n",
    "\n",
    "contour = landmarks.extract((0, 1, 10, 17, 25, 26))\n",
    "mesh_clip_ls = clip_with_contour(mesh_ls, start_time=0, fps=120/stride, contour=contour, clip_bound='xy', margin=30)"
   ]
  },
  {
   "cell_type": "code",
   "execution_count": null,
   "metadata": {},
   "outputs": [],
   "source": [
    "body_ls = obj3d.init_obj_series(\n",
    "    mesh_ls, \n",
    "    obj_type=obj3d.Obj3d_Deform\n",
    "    )"
   ]
  },
  {
   "cell_type": "code",
   "execution_count": null,
   "metadata": {},
   "outputs": [],
   "source": [
    "breast_ls = obj3d.init_obj_series(\n",
    "    mesh_clip_ls, \n",
    "    obj_type=obj3d.Obj3d_Deform\n",
    "    )"
   ]
  },
  {
   "cell_type": "code",
   "execution_count": null,
   "metadata": {},
   "outputs": [],
   "source": [
    "from mesh4d import obj4d\n",
    "\n",
    "body4d = obj4d.Obj4d_Deform(\n",
    "    fps=120 / stride,\n",
    "    enable_rigid=False,\n",
    "    enable_nonrigid=False,\n",
    ")\n",
    "body4d.add_obj(*body_ls)\n",
    "body4d.load_markerset('landmarks', landmarks)"
   ]
  },
  {
   "cell_type": "code",
   "execution_count": null,
   "metadata": {},
   "outputs": [],
   "source": [
    "breast4d = obj4d.Obj4d_Deform(\n",
    "    fps=120 / stride,\n",
    "    enable_rigid=False,\n",
    "    enable_nonrigid=False,\n",
    ")\n",
    "breast4d.add_obj(*breast_ls)\n",
    "breast4d.load_markerset('landmarks', landmarks)"
   ]
  },
  {
   "attachments": {},
   "cell_type": "markdown",
   "metadata": {},
   "source": [
    "# Visualization"
   ]
  },
  {
   "cell_type": "code",
   "execution_count": null,
   "metadata": {},
   "outputs": [],
   "source": [
    "if is_export:\n",
    "    body4d.animate(export_folder=export_folder, filename='body4d')"
   ]
  },
  {
   "cell_type": "code",
   "execution_count": null,
   "metadata": {},
   "outputs": [],
   "source": [
    "body4d.show(elements='m', off_screen=off_screen, is_export=is_export, export_folder=export_folder, export_name='body4d')"
   ]
  },
  {
   "cell_type": "code",
   "execution_count": null,
   "metadata": {},
   "outputs": [],
   "source": [
    "body4d.show(elements='mk', off_screen=off_screen, is_export=is_export, export_folder=export_folder, export_name='body4d_kps')"
   ]
  },
  {
   "cell_type": "code",
   "execution_count": null,
   "metadata": {},
   "outputs": [],
   "source": [
    "if is_export:\n",
    "    breast4d.animate(export_folder=export_folder, filename='breast4d')\n",
    "    breast4d.animate(export_folder=export_folder, filename='breast4d_raw', elements='m')"
   ]
  },
  {
   "cell_type": "code",
   "execution_count": null,
   "metadata": {},
   "outputs": [],
   "source": [
    "import pyvista as pv\n",
    "\n",
    "stack_dist = 1000\n",
    "zoom_rate = 3.5\n",
    "window_size = [2000, 800]\n",
    "\n",
    "scene = pv.Plotter(off_screen=off_screen)\n",
    "plot_num = len(body4d.obj_ls)\n",
    "\n",
    "for idx in range(0, plot_num):\n",
    "    body = body4d.obj_ls[idx]\n",
    "    breast = breast4d.obj_ls[idx]\n",
    "    width = body.get_width()\n",
    "\n",
    "    body.add_mesh_to_scene(scene, location=[0, 0, idx*stack_dist], opacity=0.1)\n",
    "    breast.add_mesh_to_scene(scene, location=[0, 0, idx*stack_dist])\n",
    "    breast.add_kps_to_scene(scene, location=[0, 0, idx*stack_dist], radius=0.02*width)\n",
    "    \n",
    "scene.camera_position = 'zy'\n",
    "scene.camera.azimuth = 45\n",
    "scene.camera.zoom(zoom_rate)\n",
    "scene.window_size = window_size\n",
    "scene.enable_parallel_projection()\n",
    "# scene.show(interactive_update=True)\n",
    "scene.show()\n",
    "\n",
    "if is_export:\n",
    "    export_path = os.path.join(export_folder, 'crop_stack.png')\n",
    "    scene.update()\n",
    "    scene.screenshot(export_path)"
   ]
  },
  {
   "cell_type": "code",
   "execution_count": null,
   "metadata": {},
   "outputs": [],
   "source": []
  }
 ],
 "metadata": {
  "kernelspec": {
   "display_name": "Python 3.8.8 ('base')",
   "language": "python",
   "name": "python3"
  },
  "language_info": {
   "codemirror_mode": {
    "name": "ipython",
    "version": 3
   },
   "file_extension": ".py",
   "mimetype": "text/x-python",
   "name": "python",
   "nbconvert_exporter": "python",
   "pygments_lexer": "ipython3",
   "version": "3.10.13"
  },
  "vscode": {
   "interpreter": {
    "hash": "8c8ccae62b03e03f602162ec2d3ff7715f4331cfb18cae8be1463dcdd08d9f0b"
   }
  }
 },
 "nbformat": 4,
 "nbformat_minor": 2
}
