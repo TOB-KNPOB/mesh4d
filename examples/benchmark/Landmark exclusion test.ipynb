{
 "cells": [
  {
   "cell_type": "code",
   "execution_count": null,
   "metadata": {},
   "outputs": [],
   "source": [
    "# add root folder of the project to path\n",
    "import sys\n",
    "sys.path.insert(0, '../..')"
   ]
  },
  {
   "cell_type": "code",
   "execution_count": null,
   "metadata": {},
   "outputs": [],
   "source": [
    "# parameter settings\n",
    "is_plot = True\n",
    "is_export = True\n",
    "\n",
    "landmarks_path = '../../data/landmarks/refine_6kmh_braless_18markers_12fps.pkl'\n",
    "meshes_path = '../../data/meshes/6kmh_braless_26markers/'\n",
    "test_landmarks_path = '../../data/test/braless_random_landmarks.pkl'\n",
    "\n",
    "start=0\n",
    "stride = 12\n",
    "end=120"
   ]
  },
  {
   "attachments": {},
   "cell_type": "markdown",
   "metadata": {},
   "source": [
    "# Data Loading"
   ]
  },
  {
   "cell_type": "code",
   "execution_count": null,
   "metadata": {},
   "outputs": [],
   "source": [
    "from mesh4d import obj3d\n",
    "from mesh4d.analyse import crave\n",
    "\n",
    "mesh_ls, texture_ls = obj3d.load_mesh_series(\n",
    "    folder=meshes_path,\n",
    "    start=start,\n",
    "    stride=stride,\n",
    "    end=end,\n",
    ")\n",
    "mesh_ls = [crave.fix_pvmesh_disconnect(mesh) for mesh in mesh_ls]"
   ]
  },
  {
   "cell_type": "code",
   "execution_count": null,
   "metadata": {},
   "outputs": [],
   "source": [
    "from mesh4d import utils\n",
    "\n",
    "landmarks = utils.load_pkl_object(landmarks_path)\n",
    "landmarks.interp_field()"
   ]
  },
  {
   "cell_type": "code",
   "execution_count": null,
   "metadata": {},
   "outputs": [],
   "source": [
    "from mesh4d.analyse.crave import clip_with_contour\n",
    "\n",
    "contour = landmarks.extract(('marker 0', 'marker 2', 'marker 3', 'marker 14', 'marker 15', 'marker 17'))\n",
    "mesh_clip_ls = clip_with_contour(mesh_ls, start_time=0, fps=120/stride, contour=contour, clip_bound='xy', margin=30)"
   ]
  },
  {
   "cell_type": "code",
   "execution_count": null,
   "metadata": {},
   "outputs": [],
   "source": [
    "body_ls = obj3d.init_obj_series(\n",
    "    mesh_ls, \n",
    "    obj_type=obj3d.Obj3d_Deform\n",
    "    )"
   ]
  },
  {
   "cell_type": "code",
   "execution_count": null,
   "metadata": {},
   "outputs": [],
   "source": [
    "breast_ls = obj3d.init_obj_series(\n",
    "    mesh_clip_ls, \n",
    "    obj_type=obj3d.Obj3d_Deform\n",
    "    )"
   ]
  },
  {
   "attachments": {},
   "cell_type": "markdown",
   "metadata": {},
   "source": [
    "---\n",
    "# Registration Approach Selection\n",
    "\n",
    "\n",
    "_P.S. Only activate one of the following code blocks in this section_"
   ]
  },
  {
   "cell_type": "code",
   "execution_count": null,
   "metadata": {},
   "outputs": [],
   "source": [
    "\"\"\"\n",
    "from mesh4d.regist import reg_rbf\n",
    "\n",
    "obj4d_type = reg_rbf.Obj4d_RBF\n",
    "export_folder = 'output/rbf/exclude/'\n",
    "regist_kwargs = {}\n",
    "\"\"\""
   ]
  },
  {
   "cell_type": "code",
   "execution_count": null,
   "metadata": {},
   "outputs": [],
   "source": [
    "# \"\"\"\n",
    "from mesh4d.regist import reg_ecpd\n",
    "\n",
    "obj4d_type = reg_ecpd.Obj4d_ECPD\n",
    "export_folder = 'output/ecpd/exclude/'\n",
    "regist_kwargs = {\n",
    "    'scale_rate': 100,\n",
    "}\n",
    "# \"\"\""
   ]
  },
  {
   "attachments": {},
   "cell_type": "markdown",
   "metadata": {},
   "source": [
    "---"
   ]
  },
  {
   "attachments": {},
   "cell_type": "markdown",
   "metadata": {},
   "source": [
    "# K-fold cross-verfication"
   ]
  },
  {
   "cell_type": "code",
   "execution_count": null,
   "metadata": {},
   "outputs": [],
   "source": [
    "import time\n",
    "import mesh4d\n",
    "from mesh4d import kps\n",
    "mesh4d.output_msg = False\n",
    "\n",
    "briefs = []\n",
    "\n",
    "for name in landmarks.markers.keys():\n",
    "    # split dataset\n",
    "    landmarks_test, landmarks_train = landmarks.split((name, ))\n",
    "\n",
    "    # registration\n",
    "    start_time = time.time()\n",
    "\n",
    "    o4 = obj4d_type(\n",
    "        fps=120 / stride,\n",
    "        enable_rigid=False,\n",
    "        enable_nonrigid=True,\n",
    "    )\n",
    "    o4.add_obj(*breast_ls)\n",
    "    o4.load_markerset('landmarks_train', landmarks_train)\n",
    "    o4.load_markerset('landmarks_test', landmarks_test)\n",
    "    o4.regist('landmarks_train', **regist_kwargs)\n",
    "\n",
    "    # computation time\n",
    "    duration = time.time() - start_time\n",
    "    print(\"computation time: {}\".format(duration))\n",
    "\n",
    "    # virtual key points tracking\n",
    "    kps_source = landmarks_test.get_time_coord(0)\n",
    "    o4.vkps_track(kps_source, start_id=0, name='vkps')\n",
    "    \n",
    "    # quantitative estimation\n",
    "    vkps = o4.assemble_markerset(name='vkps')\n",
    "    diff = kps.MarkerSet.diff(vkps, landmarks_test)\n",
    "\n",
    "    if is_export:\n",
    "        utils.save_pkl_object(diff, export_folder=export_folder, export_name='diff_{}'.format(name))\n",
    "\n",
    "    brief_str = \"{}: test error: {}\".format(name, diff['diff_str'])\n",
    "    print(brief_str)\n",
    "    briefs.append(brief_str)"
   ]
  },
  {
   "cell_type": "code",
   "execution_count": null,
   "metadata": {},
   "outputs": [],
   "source": [
    "import os\n",
    "\n",
    "if is_export:\n",
    "    brief_path = os.path.join(export_folder, 'k-fold.txt')\n",
    "\n",
    "    with open(brief_path, 'w') as f:\n",
    "        for text in briefs:\n",
    "            f.write('{}\\n'.format(text))  # python will convert \\n to os.linesep"
   ]
  },
  {
   "attachments": {},
   "cell_type": "markdown",
   "metadata": {},
   "source": [
    "# Error distribution"
   ]
  },
  {
   "cell_type": "code",
   "execution_count": null,
   "metadata": {},
   "outputs": [],
   "source": [
    "import os\n",
    "\n",
    "files = os.listdir(export_folder)\n",
    "files = [os.path.join(export_folder, f) for f in files if ('.pkl' in f) and ('marker' in f) and ('duration' not in f)]\n",
    "\n",
    "diff_rbf_ls = []\n",
    "\n",
    "for file in files:\n",
    "    diff_rbf_ls.append(utils.load_pkl_object(file))"
   ]
  },
  {
   "cell_type": "code",
   "execution_count": null,
   "metadata": {},
   "outputs": [],
   "source": [
    "import numpy as np\n",
    "\n",
    "error_ls = []\n",
    "\n",
    "for idx in (range(18)):\n",
    "    error_ls.append(diff_rbf_ls[idx]['dist_mean'])\n",
    "\n",
    "error_ls = np.array(error_ls)\n",
    "print('mean error: {:.2f}'.format(np.mean(error_ls)))"
   ]
  },
  {
   "cell_type": "code",
   "execution_count": null,
   "metadata": {},
   "outputs": [],
   "source": [
    "from mesh4d.analyse import visual\n",
    "\n",
    "landmarks_init = landmarks_init = landmarks.get_frame_coord(1).get_points_coord()\n",
    "visual.show_mesh_value_mask(mesh_clip_ls[1], landmarks_init, error_ls/10, k_nbr=100, show_edges=True)"
   ]
  },
  {
   "cell_type": "code",
   "execution_count": null,
   "metadata": {},
   "outputs": [],
   "source": []
  }
 ],
 "metadata": {
  "kernelspec": {
   "display_name": "base",
   "language": "python",
   "name": "python3"
  },
  "language_info": {
   "codemirror_mode": {
    "name": "ipython",
    "version": 3
   },
   "file_extension": ".py",
   "mimetype": "text/x-python",
   "name": "python",
   "nbconvert_exporter": "python",
   "pygments_lexer": "ipython3",
   "version": "3.9.16"
  },
  "vscode": {
   "interpreter": {
    "hash": "8c8ccae62b03e03f602162ec2d3ff7715f4331cfb18cae8be1463dcdd08d9f0b"
   }
  }
 },
 "nbformat": 4,
 "nbformat_minor": 2
}
